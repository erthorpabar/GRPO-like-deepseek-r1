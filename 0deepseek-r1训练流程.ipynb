{
 "cells": [
  {
   "cell_type": "code",
   "execution_count": 1,
   "metadata": {},
   "outputs": [
    {
     "data": {
      "text/plain": [
       "' 复现成本\\n\\n基座模型 qwen 0.5b\\n推理数据集 openai/gsm8k (全数学题)\\n8000 样本 累积 4 个样本 更新 1 次 = 2000 step\\n\\na100 40g\\n27g显存\\n4-5 小时\\n'"
      ]
     },
     "execution_count": 1,
     "metadata": {},
     "output_type": "execute_result"
    }
   ],
   "source": [
    "\n",
    "'''\n",
    "不同训练方式的区别\n",
    "\n",
    "训练方法    计算误差的答案   反馈的计算方式\n",
    "\n",
    "sft        由人类生成         数学公式计算分数（交叉熵）\n",
    "rlhf       无              人类或模型打分(1-10)\n",
    "\n",
    "RL         无              游戏规则打分\n",
    "模型蒸馏    由模型生成        数学公式计算分数（交叉熵）\n",
    "DPO        无              人类打分(1 or 0)\n",
    "PPO        无              游戏规则打分（梯度打分）\n",
    "'''\n",
    "\n",
    "'''r1 训练流程\n",
    "\n",
    "————————————————1 deepseek v3 作为一个基座模型 根据输入生成答案\n",
    "训练部分\n",
    "1 训练输出格式[sft] -> 为了通过代码批量识别输出答案的位置。（可以跳过，但会花很长时间摸索输出格式，在这之前都是无效训练）\n",
    "2 训练结果正确性[RL] -> 提高正确率。\n",
    "\n",
    "打分部分\n",
    "打分 = 格式分 + 正确性分\n",
    "\n",
    "根据打分结果，去更新参数，训练出 r1-zero\n",
    "\n",
    "————————————————2 使用 deepseek r1-zero 根据 大量 输入 生成 大量 答案\n",
    "cot连续推理数据 = deepseek r1-zero 生成 [60万条]\n",
    "非推理数据 = deepseek v3 生成 [20万条]\n",
    "\n",
    "使用这些样本去训练出 r1\n",
    "\n",
    "————————————————3 得到模型 deepseek r1\n",
    "'''\n",
    "\n",
    "''' 复现成本\n",
    "\n",
    "基座模型:qwen2.5-0.5b  约1.1g大小\n",
    "推理数据集: openai/gsm8k (全数学题)\n",
    "训练配置:8000条数据 累积4次更新1次 = 约2000 step\n",
    "显卡类型:h20 96g\n",
    "显存占用:23.430g\n",
    "训练时间:5h\n",
    "开始有效学习步数:92(奖励值≠0)\n",
    "\n",
    "\n",
    "基座模型:qwen2.5-1.5b 约3.4g大小\n",
    "推理数据集: openai/gsm8k (全数学题)\n",
    "训练配置:8000条数据 累积4次更新1次 = 约2000 step\n",
    "显卡类型:h20 96g\n",
    "显存占用:43.434g\n",
    "训练时间:6.5h\n",
    "开始有效学习步数:63(奖励值≠0)\n",
    "\n",
    "'''"
   ]
  },
  {
   "cell_type": "code",
   "execution_count": null,
   "metadata": {},
   "outputs": [],
   "source": []
  }
 ],
 "metadata": {
  "kernelspec": {
   "display_name": "qwen5b",
   "language": "python",
   "name": "python3"
  },
  "language_info": {
   "codemirror_mode": {
    "name": "ipython",
    "version": 3
   },
   "file_extension": ".py",
   "mimetype": "text/x-python",
   "name": "python",
   "nbconvert_exporter": "python",
   "pygments_lexer": "ipython3",
   "version": "3.10.16"
  }
 },
 "nbformat": 4,
 "nbformat_minor": 2
}
