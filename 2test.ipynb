{
 "cells": [
  {
   "cell_type": "code",
   "execution_count": null,
   "metadata": {},
   "outputs": [],
   "source": [
    "\n",
    "from transformers import AutoModelForCausalLM, AutoTokenizer"
   ]
  },
  {
   "cell_type": "code",
   "execution_count": null,
   "metadata": {},
   "outputs": [],
   "source": [
    "# 加载保存的模型和tokenizer\n",
    "model = AutoModelForCausalLM.from_pretrained(\"outputs/Qwen-0.5B-GRPO/checkpoint-900\").to(\"cuda\")\n",
    "tokenizer = AutoTokenizer.from_pretrained(\"outputs/Qwen-0.5B-GRPO/checkpoint-900\")"
   ]
  },
  {
   "cell_type": "code",
   "execution_count": null,
   "metadata": {},
   "outputs": [],
   "source": [
    "def generate_with_stream(input_text):\n",
    "    print(f\"\\n输入: \\n{input_text}\")\n",
    "    print(\"\\n输出:\")\n",
    "    \n",
    "    inputs = tokenizer(input_text, return_tensors=\"pt\").to(\"cuda\")\n",
    "    streamer = TextStreamer(tokenizer)\n",
    "    \n",
    "    with torch.no_grad():\n",
    "        outputs = model.generate(\n",
    "            inputs[\"input_ids\"],\n",
    "            max_length=1024,\n",
    "            num_return_sequences=1,\n",
    "            temperature=0.7,\n",
    "            do_sample=True,\n",
    "            streamer=streamer\n",
    "        )\n",
    "    \n",
    "    # 完整结果\n",
    "    full_response = tokenizer.decode(outputs[0], skip_special_tokens=True)\n",
    "\n",
    "# 使用\n",
    "input_text = \"树下一只猴？树上骑个猴？请问一共几只猴？\"\n",
    "generate_with_stream(input_text)"
   ]
  }
 ],
 "metadata": {
  "language_info": {
   "name": "python"
  }
 },
 "nbformat": 4,
 "nbformat_minor": 2
}
